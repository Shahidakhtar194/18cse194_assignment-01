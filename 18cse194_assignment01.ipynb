{
  "nbformat": 4,
  "nbformat_minor": 0,
  "metadata": {
    "colab": {
      "name": "18cse194_assignment01.ipynb",
      "provenance": [],
      "collapsed_sections": [],
      "authorship_tag": "ABX9TyN9uo3BBW5azFZbnpjUzyIM",
      "include_colab_link": true
    },
    "kernelspec": {
      "name": "python3",
      "display_name": "Python 3"
    }
  },
  "cells": [
    {
      "cell_type": "markdown",
      "metadata": {
        "id": "view-in-github",
        "colab_type": "text"
      },
      "source": [
        "<a href=\"https://colab.research.google.com/github/Shahidakhtar194/18cse194_assignment-01/blob/main/18cse194_assignment01.ipynb\" target=\"_parent\"><img src=\"https://colab.research.google.com/assets/colab-badge.svg\" alt=\"Open In Colab\"/></a>"
      ]
    },
    {
      "cell_type": "code",
      "metadata": {
        "id": "Zwu7VqjGsdt3"
      },
      "source": [
        "#mean without libarary function"
      ],
      "execution_count": null,
      "outputs": []
    },
    {
      "cell_type": "code",
      "metadata": {
        "id": "oK4U-Mv4sxSY",
        "outputId": "ef8c2ed0-e01b-4517-e045-c6428cfbbbe3",
        "colab": {
          "base_uri": "https://localhost:8080/"
        }
      },
      "source": [
        "n_num= [23,34,12,5,6,22,33,41,56,56,78,12,12,12]\n",
        "n=len(n_num)\n",
        "get_sum=sum(n_num)\n",
        "mean=get_sum/n\n",
        "print(\"Mean/Average is:\"+str(mean))"
      ],
      "execution_count": null,
      "outputs": [
        {
          "output_type": "stream",
          "text": [
            "Mean/Average is:28.714285714285715\n"
          ],
          "name": "stdout"
        }
      ]
    },
    {
      "cell_type": "code",
      "metadata": {
        "id": "YaBxgkyG87NO"
      },
      "source": [
        ""
      ],
      "execution_count": null,
      "outputs": []
    },
    {
      "cell_type": "code",
      "metadata": {
        "id": "PvuDU7wAyy6q",
        "outputId": "dc19fca2-d855-4c8c-8ce2-5021cce73b4a",
        "colab": {
          "base_uri": "https://localhost:8080/"
        }
      },
      "source": [
        "#median without library function\n",
        "n_num = [23,34,12,5,6,22,33,41,56,56,78,12,12,12] \n",
        "n = len(n_num) \n",
        "n_num.sort() \n",
        "  \n",
        "if n % 2 == 0: \n",
        "    median1 = n_num[n//2] \n",
        "    median2 = n_num[n//2 - 1] \n",
        "    median = (median1 + median2)/2\n",
        "else: \n",
        "    median = n_num[n//2] \n",
        "print(\"Median is: \" + str(median))"
      ],
      "execution_count": null,
      "outputs": [
        {
          "output_type": "stream",
          "text": [
            "Median is: 22.5\n"
          ],
          "name": "stdout"
        }
      ]
    },
    {
      "cell_type": "code",
      "metadata": {
        "id": "-NAW1aoGzONU",
        "outputId": "a8a5e985-8009-45e6-a5e5-9a47db169563",
        "colab": {
          "base_uri": "https://localhost:8080/"
        }
      },
      "source": [
        "#mode without libray function\n",
        "from collections import Counter \n",
        "n_num = [23,34,12,5,6,22,33,41,56,56,78,12,12,12] \n",
        "n = len(n_num) \n",
        "  \n",
        "data = Counter(n_num) \n",
        "get_mode = dict(data) \n",
        "mode = [k for k, v in get_mode.items() if v == max(list(data.values()))] \n",
        "  \n",
        "if len(mode) == n: \n",
        "    get_mode = \" mode not found\"\n",
        "else: \n",
        "    get_mode = \"Mode is / are: \" + ', '.join(map(str, mode)) \n",
        "      \n",
        "print(get_mode) "
      ],
      "execution_count": null,
      "outputs": [
        {
          "output_type": "stream",
          "text": [
            "Mode is / are: 12\n"
          ],
          "name": "stdout"
        }
      ]
    },
    {
      "cell_type": "code",
      "metadata": {
        "id": "zfKLIFCA1SYA",
        "outputId": "d33e52f0-2f7a-420e-8357-966ba0ef6681",
        "colab": {
          "base_uri": "https://localhost:8080/"
        }
      },
      "source": [
        "#mean with library function\n",
        "import statistics\n",
        "statistics.mean([23,34,12,5,6,22,33,41,56,56,78,12,12,12])"
      ],
      "execution_count": null,
      "outputs": [
        {
          "output_type": "execute_result",
          "data": {
            "text/plain": [
              "28.714285714285715"
            ]
          },
          "metadata": {
            "tags": []
          },
          "execution_count": 22
        }
      ]
    },
    {
      "cell_type": "code",
      "metadata": {
        "id": "tp-cXhWb10Br",
        "outputId": "8245125a-8cf3-4084-af1b-17439bd9257a",
        "colab": {
          "base_uri": "https://localhost:8080/",
          "height": 128
        }
      },
      "source": [
        "#median with library function\n",
        "import statistics\n",
        "\n",
        "  statistics.median([23,34,12,5,6,22,33,41,56,56,78,12,12,12])\n"
      ],
      "execution_count": null,
      "outputs": [
        {
          "output_type": "error",
          "ename": "IndentationError",
          "evalue": "ignored",
          "traceback": [
            "\u001b[0;36m  File \u001b[0;32m\"<ipython-input-27-8eaa90a7b223>\"\u001b[0;36m, line \u001b[0;32m4\u001b[0m\n\u001b[0;31m    statistics.median([23,34,12,5,6,22,33,41,56,56,78,12,12,12])\u001b[0m\n\u001b[0m    ^\u001b[0m\n\u001b[0;31mIndentationError\u001b[0m\u001b[0;31m:\u001b[0m unexpected indent\n"
          ]
        }
      ]
    },
    {
      "cell_type": "code",
      "metadata": {
        "id": "7PCX627H2-6f",
        "outputId": "c952e324-7d0f-46d6-a52f-2b636b41f50d",
        "colab": {
          "base_uri": "https://localhost:8080/",
          "height": 128
        }
      },
      "source": [
        "#mod with library function\n",
        "import statistics\n",
        "\n",
        ">>> statistics.mode([23,34,12,5,6,22,33,41,56,56,78,12,12,12])"
      ],
      "execution_count": null,
      "outputs": [
        {
          "output_type": "error",
          "ename": "SyntaxError",
          "evalue": "ignored",
          "traceback": [
            "\u001b[0;36m  File \u001b[0;32m\"<ipython-input-29-0a17d047ee2f>\"\u001b[0;36m, line \u001b[0;32m4\u001b[0m\n\u001b[0;31m    >>> statistics.mode([23,34,12,5,6,22,33,41,56,56,78,12,12,12])\u001b[0m\n\u001b[0m     ^\u001b[0m\n\u001b[0;31mSyntaxError\u001b[0m\u001b[0;31m:\u001b[0m invalid syntax\n"
          ]
        }
      ]
    },
    {
      "cell_type": "code",
      "metadata": {
        "id": "mLH9RNNPD9tk",
        "outputId": "933754df-7450-4d14-a043-6eaf4069d793",
        "colab": {
          "base_uri": "https://localhost:8080/"
        }
      },
      "source": [
        "# calculatuon for  list of variance \n",
        "import numpy as np \n",
        "list = [ 23,34,12,22,5,33,41,56,78] \n",
        "print(np.var(list))"
      ],
      "execution_count": null,
      "outputs": [
        {
          "output_type": "stream",
          "text": [
            "451.0617283950617\n"
          ],
          "name": "stdout"
        }
      ]
    },
    {
      "cell_type": "code",
      "metadata": {
        "id": "Sz93duNjFjPr",
        "outputId": "cd6b7dc2-bc51-4143-9d42-3fec97e1aa59",
        "colab": {
          "base_uri": "https://localhost:8080/"
        }
      },
      "source": [
        "#calculation of standard deviation\n",
        "import numpy as np \n",
        "  \n",
        "# Taking the elements in List type\n",
        "list = [23,34,12,22,5,33,41,56,78]  \n",
        "print(np.std(list))"
      ],
      "execution_count": null,
      "outputs": [
        {
          "output_type": "stream",
          "text": [
            "21.238213870169538\n"
          ],
          "name": "stdout"
        }
      ]
    }
  ]
}